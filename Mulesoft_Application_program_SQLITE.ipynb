{
  "nbformat": 4,
  "nbformat_minor": 0,
  "metadata": {
    "colab": {
      "name": "Mulesoft Application program SQLITE",
      "provenance": []
    },
    "kernelspec": {
      "name": "python3",
      "display_name": "Python 3"
    },
    "language_info": {
      "name": "python"
    }
  },
  "cells": [
    {
      "cell_type": "markdown",
      "source": [
        "# IMPORTING SQLITE "
      ],
      "metadata": {
        "id": "SzG1LvO_VqK9"
      }
    },
    {
      "cell_type": "code",
      "execution_count": 1,
      "metadata": {
        "id": "OSWw_jQOVMwP"
      },
      "outputs": [],
      "source": [
        "import sqlite3"
      ]
    },
    {
      "cell_type": "markdown",
      "source": [
        "# connecting to sqlite server and database"
      ],
      "metadata": {
        "id": "ojh8fK6fV15J"
      }
    },
    {
      "cell_type": "code",
      "source": [
        "try:\n",
        "    sqliteConnection = sqlite3.connect('moviedb.db')\n",
        "    cursor = sqliteConnection.cursor()\n",
        "    print(\"Database created and Successfully Connected to SQLite\")\n",
        "\n",
        "    sqlite_select_Query = \"select sqlite_version();\"\n",
        "    cursor.execute(sqlite_select_Query)\n",
        "    record = cursor.fetchall()\n",
        "    print(\"SQLite Database Version is: \", record)\n",
        "    cursor.close()\n",
        "\n",
        "except sqlite3.Error as error:\n",
        "    print(\"Error while connecting to sqlite\", error)\n",
        "'''finally:\n",
        "    if sqliteConnection:\n",
        "        sqliteConnection.close()\n",
        "        print(\"The SQLite connection is closed\")'''"
      ],
      "metadata": {
        "colab": {
          "base_uri": "https://localhost:8080/",
          "height": 70
        },
        "id": "DiyvI_vMVPVg",
        "outputId": "657af118-c58d-4627-ab6a-dd4bd20882b0"
      },
      "execution_count": 2,
      "outputs": [
        {
          "output_type": "stream",
          "name": "stdout",
          "text": [
            "Database created and Successfully Connected to SQLite\n",
            "SQLite Database Version is:  [('3.22.0',)]\n"
          ]
        },
        {
          "output_type": "execute_result",
          "data": {
            "text/plain": [
              "'finally:\\n    if sqliteConnection:\\n        sqliteConnection.close()\\n        print(\"The SQLite connection is closed\")'"
            ],
            "application/vnd.google.colaboratory.intrinsic+json": {
              "type": "string"
            }
          },
          "metadata": {},
          "execution_count": 2
        }
      ]
    },
    {
      "cell_type": "markdown",
      "source": [
        "## moviedb database created"
      ],
      "metadata": {
        "id": "e5Qp8EeTV-dw"
      }
    },
    {
      "cell_type": "code",
      "source": [
        "cursor = sqliteConnection.cursor()\n",
        "cursor.execute('''drop table Movies''')\n",
        "cursor.execute('''create table Movies(Name varchar(50),Actor varchar(50),Actress varchar(50),Director varchar(50),Year_of_release number(5))''')\n",
        "sqliteConnection.commit()"
      ],
      "metadata": {
        "id": "HpVauseuVWeq"
      },
      "execution_count": 4,
      "outputs": []
    },
    {
      "cell_type": "markdown",
      "source": [
        "# insert rows into Movies table"
      ],
      "metadata": {
        "id": "BnXev812gvEX"
      }
    },
    {
      "cell_type": "code",
      "source": [
        "cursor = sqliteConnection.cursor()\n",
        "cursor.execute('''insert into Movies values(\"Tanioruvan\",\"Jayamravi\",\"Nayanthara\",\"Mohanraja\",2015);''')\n",
        "cursor.execute('''insert into Movies values(\"Don\",\"Sivakarthikeyan\",\"Priyamohan\",\"Cibichakaravarthi\",2022);''')\n",
        "cursor.execute('''insert into Movies values(\"Beat\",\"Vijay\",\"Dharsha\",\"Nelson\",2022);''')\n",
        "cursor.execute('''insert into Movies values(\"Vikram\",\"Kamalhasan\",\"Maina\",\"Lokeshkanagaraj\",2022);''')\n",
        "cursor.execute('''insert into Movies values(\"Netrikan\",\"Saran\",\"Nayanthara\",\"Milind Rau\",2021);''')\n",
        "cursor.execute('''insert into Movies values(\"Mrlocal\",\"Sivakarthikeyan\",\"Nayanthara\",\"Rajesh\",2019);''')\n",
        "cursor.execute('''insert into Movies values(\"Varuthapadatha Valibar Sangam\",\"Sivakarthikeyan\",\"Sridhivya\",\"Ponram\",2013);''')\n",
        "cursor.execute('''insert into Movies values(\" Velaiyilla Pattathari\",\"Thanush\",\"Amalapal\",\"Velraj\",2014);''')\n",
        "cursor.execute('''insert into Movies values(\"Karnan\",\"Thanush\",\"Rajisha\",\"Mani Selvaraj\",2021);''')\n",
        "cursor.execute('''insert into Movies values(\"Bhahubali\",\"Prabash\",\"Anushka\",\"Rajamouli\",2017);''')\n",
        "sqliteConnection.commit()"
      ],
      "metadata": {
        "id": "Mx2PAGtzXCfc"
      },
      "execution_count": 5,
      "outputs": []
    },
    {
      "cell_type": "markdown",
      "source": [
        "# Printing all values"
      ],
      "metadata": {
        "id": "TaHZlaqGg38F"
      }
    },
    {
      "cell_type": "code",
      "source": [
        "cursor = sqliteConnection.cursor()\n",
        "cursor.execute('''select * from Movies;''')\n",
        "for i in cursor:\n",
        "  print(i)"
      ],
      "metadata": {
        "colab": {
          "base_uri": "https://localhost:8080/"
        },
        "id": "EC4pOTKkY9rr",
        "outputId": "d03795b7-ba07-4373-9c31-3801b7fa2d22"
      },
      "execution_count": 6,
      "outputs": [
        {
          "output_type": "stream",
          "name": "stdout",
          "text": [
            "('Tanioruvan', 'Jayamravi', 'Nayanthara', 'Mohanraja', 2015)\n",
            "('Don', 'Sivakarthikeyan', 'Priyamohan', 'Cibichakaravarthi', 2022)\n",
            "('Beat', 'Vijay', 'Dharsha', 'Nelson', 2022)\n",
            "('Vikram', 'Kamalhasan', 'Maina', 'Lokeshkanagaraj', 2022)\n",
            "('Netrikan', 'Saran', 'Nayanthara', 'Milind Rau', 2021)\n",
            "('Mrlocal', 'Sivakarthikeyan', 'Nayanthara', 'Rajesh', 2019)\n",
            "('Varuthapadatha Valibar Sangam', 'Sivakarthikeyan', 'Sridhivya', 'Ponram', 2013)\n",
            "(' Velaiyilla Pattathari', 'Thanush', 'Amalapal', 'Velraj', 2014)\n",
            "('Karnan', 'Thanush', 'Rajisha', 'Mani Selvaraj', 2021)\n",
            "('Bhahubali', 'Prabash', 'Anushka', 'Rajamouli', 2017)\n"
          ]
        }
      ]
    },
    {
      "cell_type": "markdown",
      "source": [
        "# select all movies whose nayanthara is actress"
      ],
      "metadata": {
        "id": "MKNIf_HCg8jx"
      }
    },
    {
      "cell_type": "code",
      "source": [
        "cursor.execute('''select * from Movies where Actress=\"Nayanthara\";''')\n",
        "for i in cursor:\n",
        "  print(i)"
      ],
      "metadata": {
        "colab": {
          "base_uri": "https://localhost:8080/"
        },
        "id": "VBK1EtGwa33Y",
        "outputId": "7f495184-7aa1-47a6-c2b1-d6371ca15839"
      },
      "execution_count": 7,
      "outputs": [
        {
          "output_type": "stream",
          "name": "stdout",
          "text": [
            "('Tanioruvan', 'Jayamravi', 'Nayanthara', 'Mohanraja', 2015)\n",
            "('Netrikan', 'Saran', 'Nayanthara', 'Milind Rau', 2021)\n",
            "('Mrlocal', 'Sivakarthikeyan', 'Nayanthara', 'Rajesh', 2019)\n"
          ]
        }
      ]
    },
    {
      "cell_type": "markdown",
      "source": [
        "# select movies whose actor is sivakarthikeyan"
      ],
      "metadata": {
        "id": "_6ECLOachFbV"
      }
    },
    {
      "cell_type": "code",
      "source": [
        "cursor.execute('''select name from Movies where Actor=\"Sivakarthikeyan\";''')\n",
        "for i in cursor:\n",
        "  print(i)"
      ],
      "metadata": {
        "colab": {
          "base_uri": "https://localhost:8080/"
        },
        "id": "akpx-tcxgIf9",
        "outputId": "61114708-a907-4f86-a2f8-da27627c3189"
      },
      "execution_count": 8,
      "outputs": [
        {
          "output_type": "stream",
          "name": "stdout",
          "text": [
            "('Don',)\n",
            "('Mrlocal',)\n",
            "('Varuthapadatha Valibar Sangam',)\n"
          ]
        }
      ]
    },
    {
      "cell_type": "code",
      "source": [
        ""
      ],
      "metadata": {
        "id": "11fpTZpEgYDW"
      },
      "execution_count": null,
      "outputs": []
    }
  ]
}